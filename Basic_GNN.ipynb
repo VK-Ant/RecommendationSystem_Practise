{
 "cells": [
  {
   "cell_type": "code",
   "execution_count": 1,
   "id": "e384aff9",
   "metadata": {},
   "outputs": [
    {
     "name": "stdout",
     "output_type": "stream",
     "text": [
      "Looking in links: https://data.pyg.org/whl/torch-1.13.0+cpu.html\n",
      "Collecting pyg_lib\n",
      "  Downloading https://data.pyg.org/whl/torch-1.13.0%2Bcpu/pyg_lib-0.1.0%2Bpt113cpu-cp39-cp39-linux_x86_64.whl (539 kB)\n",
      "\u001b[2K     \u001b[38;2;114;156;31m━━━━━━━━━━━━━━━━━━━━━━━━━━━━━━━━━━━━━\u001b[0m \u001b[32m539.4/539.4 kB\u001b[0m \u001b[31m662.8 kB/s\u001b[0m eta \u001b[36m0:00:00\u001b[0m1m666.5 kB/s\u001b[0m eta \u001b[36m0:00:01\u001b[0m\n",
      "\u001b[?25hCollecting torch_scatter\n",
      "  Downloading https://data.pyg.org/whl/torch-1.13.0%2Bcpu/torch_scatter-2.1.1%2Bpt113cpu-cp39-cp39-linux_x86_64.whl (485 kB)\n",
      "\u001b[2K     \u001b[38;2;114;156;31m━━━━━━━━━━━━━━━━━━━━━━━━━━━━━━━━━━━━━━━\u001b[0m \u001b[32m485.7/485.7 kB\u001b[0m \u001b[31m1.1 MB/s\u001b[0m eta \u001b[36m0:00:00\u001b[0m[31m1.1 MB/s\u001b[0m eta \u001b[36m0:00:01\u001b[0m\n",
      "\u001b[?25hCollecting torch_sparse\n",
      "  Downloading https://data.pyg.org/whl/torch-1.13.0%2Bcpu/torch_sparse-0.6.17%2Bpt113cpu-cp39-cp39-linux_x86_64.whl (1.1 MB)\n",
      "\u001b[2K     \u001b[38;2;114;156;31m━━━━━━━━━━━━━━━━━━━━━━━━━━━━━━━━━━━━━━━━\u001b[0m \u001b[32m1.1/1.1 MB\u001b[0m \u001b[31m1.2 MB/s\u001b[0m eta \u001b[36m0:00:00\u001b[0m MB/s\u001b[0m eta \u001b[36m0:00:01\u001b[0m:01\u001b[0m\n",
      "\u001b[?25hCollecting torch_cluster\n",
      "  Downloading https://data.pyg.org/whl/torch-1.13.0%2Bcpu/torch_cluster-1.6.1%2Bpt113cpu-cp39-cp39-linux_x86_64.whl (700 kB)\n",
      "\u001b[2K     \u001b[38;2;114;156;31m━━━━━━━━━━━━━━━━━━━━━━━━━━━━━━━━━━━━━━━\u001b[0m \u001b[32m700.6/700.6 kB\u001b[0m \u001b[31m1.7 MB/s\u001b[0m eta \u001b[36m0:00:00\u001b[0m[31m1.8 MB/s\u001b[0m eta \u001b[36m0:00:01\u001b[0m\n",
      "\u001b[?25hCollecting torch_spline_conv\n",
      "  Downloading https://data.pyg.org/whl/torch-1.13.0%2Bcpu/torch_spline_conv-1.2.2%2Bpt113cpu-cp39-cp39-linux_x86_64.whl (198 kB)\n",
      "\u001b[2K     \u001b[38;2;114;156;31m━━━━━━━━━━━━━━━━━━━━━━━━━━━━━━━━━━━━━━━\u001b[0m \u001b[32m198.9/198.9 kB\u001b[0m \u001b[31m1.9 MB/s\u001b[0m eta \u001b[36m0:00:00\u001b[0m MB/s\u001b[0m eta \u001b[36m0:00:01\u001b[0m:01\u001b[0m\n",
      "\u001b[?25hCollecting torch_geometric\n",
      "  Downloading torch_geometric-2.2.0.tar.gz (564 kB)\n",
      "\u001b[2K     \u001b[38;2;114;156;31m━━━━━━━━━━━━━━━━━━━━━━━━━━━━━━━━━━━━━━━\u001b[0m \u001b[32m565.0/565.0 kB\u001b[0m \u001b[31m1.3 MB/s\u001b[0m eta \u001b[36m0:00:00\u001b[0mm eta \u001b[36m0:00:01\u001b[0m[36m0:00:01\u001b[0m\n",
      "\u001b[?25h  Preparing metadata (setup.py) ... \u001b[?25ldone\n",
      "\u001b[?25hRequirement already satisfied: scipy in /home/vk/anaconda3/envs/practise/lib/python3.9/site-packages (from torch_sparse) (1.9.3)\n",
      "Requirement already satisfied: tqdm in /home/vk/anaconda3/envs/practise/lib/python3.9/site-packages (from torch_geometric) (4.64.1)\n",
      "Requirement already satisfied: numpy in /home/vk/anaconda3/envs/practise/lib/python3.9/site-packages (from torch_geometric) (1.23.5)\n",
      "Requirement already satisfied: jinja2 in /home/vk/anaconda3/envs/practise/lib/python3.9/site-packages (from torch_geometric) (3.1.2)\n",
      "Requirement already satisfied: requests in /home/vk/anaconda3/envs/practise/lib/python3.9/site-packages (from torch_geometric) (2.28.1)\n",
      "Requirement already satisfied: pyparsing in /home/vk/anaconda3/envs/practise/lib/python3.9/site-packages (from torch_geometric) (3.0.9)\n",
      "Requirement already satisfied: scikit-learn in /home/vk/anaconda3/envs/practise/lib/python3.9/site-packages (from torch_geometric) (1.1.3)\n",
      "Requirement already satisfied: psutil>=5.8.0 in /home/vk/anaconda3/envs/practise/lib/python3.9/site-packages (from torch_geometric) (5.9.0)\n",
      "Requirement already satisfied: MarkupSafe>=2.0 in /home/vk/anaconda3/envs/practise/lib/python3.9/site-packages (from jinja2->torch_geometric) (2.1.1)\n",
      "Requirement already satisfied: certifi>=2017.4.17 in /home/vk/anaconda3/envs/practise/lib/python3.9/site-packages (from requests->torch_geometric) (2022.9.24)\n",
      "Requirement already satisfied: charset-normalizer<3,>=2 in /home/vk/anaconda3/envs/practise/lib/python3.9/site-packages (from requests->torch_geometric) (2.0.4)\n",
      "Requirement already satisfied: idna<4,>=2.5 in /home/vk/anaconda3/envs/practise/lib/python3.9/site-packages (from requests->torch_geometric) (3.4)\n",
      "Requirement already satisfied: urllib3<1.27,>=1.21.1 in /home/vk/anaconda3/envs/practise/lib/python3.9/site-packages (from requests->torch_geometric) (1.26.12)\n",
      "Requirement already satisfied: threadpoolctl>=2.0.0 in /home/vk/anaconda3/envs/practise/lib/python3.9/site-packages (from scikit-learn->torch_geometric) (3.1.0)\n",
      "Requirement already satisfied: joblib>=1.0.0 in /home/vk/anaconda3/envs/practise/lib/python3.9/site-packages (from scikit-learn->torch_geometric) (1.2.0)\n",
      "Building wheels for collected packages: torch_geometric\n",
      "  Building wheel for torch_geometric (setup.py) ... \u001b[?25ldone\n",
      "\u001b[?25h  Created wheel for torch_geometric: filename=torch_geometric-2.2.0-py3-none-any.whl size=773285 sha256=f700d4a5d6dc84be9789a920c876344bd4a1f6a6419156201d22cb7da00160ad\n",
      "  Stored in directory: /home/vk/.cache/pip/wheels/31/b2/8c/9b4bb72a4384eabd1ffeab2b7ead692c9165e35711f8a9dc72\n",
      "Successfully built torch_geometric\n",
      "Installing collected packages: torch_spline_conv, torch_scatter, pyg_lib, torch_sparse, torch_cluster, torch_geometric\n",
      "Successfully installed pyg_lib-0.1.0+pt113cpu torch_cluster-1.6.1+pt113cpu torch_geometric-2.2.0 torch_scatter-2.1.1+pt113cpu torch_sparse-0.6.17+pt113cpu torch_spline_conv-1.2.2+pt113cpu\n"
     ]
    }
   ],
   "source": [
    "!pip install pyg_lib torch_scatter torch_sparse torch_cluster torch_spline_conv torch_geometric -f https://data.pyg.org/whl/torch-1.13.0+cpu.html"
   ]
  },
  {
   "cell_type": "code",
   "execution_count": 2,
   "id": "b3f5d714",
   "metadata": {},
   "outputs": [
    {
     "name": "stdout",
     "output_type": "stream",
     "text": [
      "Requirement already satisfied: sklearn in /home/vk/anaconda3/envs/practise/lib/python3.9/site-packages (0.0.post1)\r\n"
     ]
    }
   ],
   "source": [
    "!pip install sklearn"
   ]
  },
  {
   "cell_type": "code",
   "execution_count": 3,
   "id": "6a6240db",
   "metadata": {},
   "outputs": [
    {
     "name": "stdout",
     "output_type": "stream",
     "text": [
      "Requirement already satisfied: torch in /home/vk/anaconda3/envs/practise/lib/python3.9/site-packages (1.13.0)\n",
      "Requirement already satisfied: nvidia-cuda-runtime-cu11==11.7.99 in /home/vk/anaconda3/envs/practise/lib/python3.9/site-packages (from torch) (11.7.99)\n",
      "Requirement already satisfied: nvidia-cublas-cu11==11.10.3.66 in /home/vk/anaconda3/envs/practise/lib/python3.9/site-packages (from torch) (11.10.3.66)\n",
      "Requirement already satisfied: nvidia-cudnn-cu11==8.5.0.96 in /home/vk/anaconda3/envs/practise/lib/python3.9/site-packages (from torch) (8.5.0.96)\n",
      "Requirement already satisfied: typing-extensions in /home/vk/anaconda3/envs/practise/lib/python3.9/site-packages (from torch) (4.3.0)\n",
      "Requirement already satisfied: nvidia-cuda-nvrtc-cu11==11.7.99 in /home/vk/anaconda3/envs/practise/lib/python3.9/site-packages (from torch) (11.7.99)\n",
      "Requirement already satisfied: setuptools in /home/vk/anaconda3/envs/practise/lib/python3.9/site-packages (from nvidia-cublas-cu11==11.10.3.66->torch) (65.4.0)\n",
      "Requirement already satisfied: wheel in /home/vk/anaconda3/envs/practise/lib/python3.9/site-packages (from nvidia-cublas-cu11==11.10.3.66->torch) (0.37.1)\n"
     ]
    }
   ],
   "source": [
    "!pip install torch"
   ]
  },
  {
   "cell_type": "code",
   "execution_count": 6,
   "id": "a980d95b",
   "metadata": {},
   "outputs": [
    {
     "name": "stderr",
     "output_type": "stream",
     "text": [
      "/home/vk/anaconda3/envs/practise/lib/python3.9/site-packages/tqdm/auto.py:22: TqdmWarning: IProgress not found. Please update jupyter and ipywidgets. See https://ipywidgets.readthedocs.io/en/stable/user_install.html\n",
      "  from .autonotebook import tqdm as notebook_tqdm\n"
     ]
    }
   ],
   "source": [
    "# Import necessary library\n",
    "\n",
    "import random\n",
    "from tqdm.notebook import tqdm\n",
    "import pandas as pd\n",
    "import numpy as np\n",
    "import matplotlib.pyplot as plt\n",
    "from sklearn.model_selection import train_test_split\n",
    "from sklearn import model_selection, metrics, preprocessing\n",
    "import copy\n",
    "from torch_geometric.utils import degree"
   ]
  },
  {
   "cell_type": "code",
   "execution_count": 7,
   "id": "43e7f2a2",
   "metadata": {},
   "outputs": [],
   "source": [
    "import torch\n",
    "from torch import nn, optim, Tensor"
   ]
  },
  {
   "cell_type": "code",
   "execution_count": 8,
   "id": "1957018e",
   "metadata": {},
   "outputs": [],
   "source": [
    "from torch_sparse import SparseTensor, matmul\n",
    "from torch_geometric.utils import structured_negative_sampling\n",
    "from torch_geometric.data import download_url, extract_zip\n",
    "from torch_geometric.nn.conv.gcn_conv import gcn_norm\n",
    "from torch_geometric.nn.conv import MessagePassing\n",
    "from torch_geometric.typing import Adj"
   ]
  },
  {
   "cell_type": "code",
   "execution_count": 12,
   "id": "4ddd74ca",
   "metadata": {},
   "outputs": [],
   "source": [
    "'''\n",
    "Let's look at the following 3 x 4 interaction matrix \n",
    "      items    i1   i2   i3   i4\n",
    "users     u1    0    0    1   1\n",
    "          u2    1    0    1   0\n",
    "          u3    0    1    0   0\n",
    "          \n",
    "        \n",
    "'''\n",
    "\n",
    "from scipy import sparse"
   ]
  },
  {
   "cell_type": "code",
   "execution_count": 10,
   "id": "280ef41d",
   "metadata": {},
   "outputs": [
    {
     "name": "stdout",
     "output_type": "stream",
     "text": [
      "[[0 0 1 1]\n",
      " [1 0 1 0]\n",
      " [0 1 0 0]]\n"
     ]
    }
   ],
   "source": [
    "# torch.from_numpy\n",
    "# r_mat here is the interaction matrix above\n",
    "r_mat = np.array([[0, 0, 1, 1], \n",
    "                  [1, 0, 1, 0], \n",
    "                  [0, 1, 0, 0]])\n",
    "print(r_mat)"
   ]
  },
  {
   "cell_type": "code",
   "execution_count": 13,
   "id": "014c3e32",
   "metadata": {},
   "outputs": [
    {
     "name": "stdout",
     "output_type": "stream",
     "text": [
      "  (0, 2)\t1\n",
      "  (0, 3)\t1\n",
      "  (1, 0)\t1\n",
      "  (1, 2)\t1\n",
      "  (2, 1)\t1\n"
     ]
    }
   ],
   "source": [
    "r_mat_np_coo = sparse.coo_matrix(r_mat)\n",
    "print(r_mat_np_coo)"
   ]
  },
  {
   "cell_type": "code",
   "execution_count": 14,
   "id": "35c1f164",
   "metadata": {},
   "outputs": [
    {
     "name": "stdout",
     "output_type": "stream",
     "text": [
      "[0 0 1 1 2]\n",
      "[2 3 0 2 1]\n"
     ]
    }
   ],
   "source": [
    "# edge_index is just [row, col] from COO format\n",
    "r_mat_edge_index =  [r_mat_np_coo.row, r_mat_np_coo.col] \n",
    "\n",
    "print(r_mat_edge_index[0])\n",
    "print(r_mat_edge_index[1])"
   ]
  },
  {
   "cell_type": "code",
   "execution_count": 15,
   "id": "cfecf800",
   "metadata": {},
   "outputs": [
    {
     "name": "stdout",
     "output_type": "stream",
     "text": [
      "[[0 0 1 1]\n",
      " [1 0 1 0]\n",
      " [0 1 0 0]]\n"
     ]
    }
   ],
   "source": [
    "print(r_mat_np_coo.todense())"
   ]
  },
  {
   "cell_type": "code",
   "execution_count": 16,
   "id": "98f6fd1c",
   "metadata": {},
   "outputs": [
    {
     "data": {
      "text/plain": [
       "tensor([[0, 0, 1, 1, 2],\n",
       "        [2, 3, 0, 2, 1]])"
      ]
     },
     "execution_count": 16,
     "metadata": {},
     "output_type": "execute_result"
    }
   ],
   "source": [
    "# pytorch try\n",
    "r_mat_edge_index = torch.LongTensor(np.array(r_mat_edge_index))\n",
    "r_mat_edge_index"
   ]
  },
  {
   "cell_type": "code",
   "execution_count": 17,
   "id": "a94da983",
   "metadata": {},
   "outputs": [
    {
     "name": "stdout",
     "output_type": "stream",
     "text": [
      "SparseTensor(row=tensor([0, 0, 1, 1, 2]),\n",
      "             col=tensor([2, 3, 0, 2, 1]),\n",
      "             size=(3, 4), nnz=5, density=41.67%)\n"
     ]
    }
   ],
   "source": [
    "sparse_r_mat_edge_index = SparseTensor(row=r_mat_edge_index[0], \n",
    "                                           col=r_mat_edge_index[1], \n",
    "                                           sparse_sizes=(3, 4))\n",
    "\n",
    "print(sparse_r_mat_edge_index)"
   ]
  },
  {
   "cell_type": "code",
   "execution_count": 18,
   "id": "e81fef1a",
   "metadata": {},
   "outputs": [
    {
     "name": "stdout",
     "output_type": "stream",
     "text": [
      "tensor([[0., 0., 1., 1.],\n",
      "        [1., 0., 1., 0.],\n",
      "        [0., 1., 0., 0.]])\n"
     ]
    }
   ],
   "source": [
    "print(sparse_r_mat_edge_index.to_dense())"
   ]
  },
  {
   "cell_type": "code",
   "execution_count": 20,
   "id": "79ac523c",
   "metadata": {},
   "outputs": [],
   "source": [
    "'''\n",
    "In bipartite graph, interaction matrix is not the same as adjacency matrix, because adjacency matrix\n",
    "expecteds row index and col index to refer to the same node\n",
    "\n",
    "perform the conversion between interaction matrix (r_mat) and adjacency matrix (adj_mat)\n",
    "    ( 0    R )\n",
    "A = ( R_T  0 )\n",
    "\n",
    "so if dimension of R is  n_user x n_item\n",
    "then dimension of A is (n_user+n_item) x (n_user+n_item)\n",
    "\n",
    "'''\n",
    "\n",
    "#helper function\n",
    "def convert_r_mat_edge_index_to_adj_mat_edge_index(input_edge_index, row_size, col_size):\n",
    "    R = torch.zeros((row_size, col_size))\n",
    "    \n",
    "    # convert sparse coo forat to dense format to get R\n",
    "    for i in range(len(input_edge_index[0])):\n",
    "        row_idx = input_edge_index[0][i]\n",
    "        col_idx = input_edge_index[1][i]\n",
    "        R[row_idx][col_idx] = 1\n",
    "        \n",
    "    # perform the  r_mat to adj_mat conversion   \n",
    "    R_transpose = torch.transpose(R, 0, 1)\n",
    "    adj_mat = torch.zeros((row_size + col_size , row_size + col_size))\n",
    "    adj_mat[: row_size, row_size :] = R.clone()\n",
    "    adj_mat[row_size :, : row_size] = R_transpose.clone()\n",
    "    \n",
    "    # convert from dense format back to sparse coo format so we can get the edge_index of adj_mat\n",
    "    adj_mat_coo = adj_mat.to_sparse_coo()\n",
    "    adj_mat_coo = adj_mat_coo.indices()\n",
    "    return adj_mat_coo\n",
    "\n",
    "def convert_adj_mat_edge_index_to_r_mat_edge_index(input_edge_index, row_size, col_size):\n",
    "    # create a sparse tensor so we can easily do the to_dense conversion and get a sub matrix to \n",
    "    # get R (interaction matrix) and then convert it back to sparse coo format\n",
    "    sparse_input_edge_index = SparseTensor(row=input_edge_index[0], \n",
    "                                           col=input_edge_index[1], \n",
    "                                           sparse_sizes=((row_size + col_size), row_size + col_size))\n",
    "    adj_mat = sparse_input_edge_index.to_dense()\n",
    "    interact_mat = adj_mat[: row_size, row_size :]\n",
    "    r_mat_edge_index = interact_mat.to_sparse_coo().indices()\n",
    "    return r_mat_edge_index"
   ]
  },
  {
   "cell_type": "code",
   "execution_count": 21,
   "id": "15c186e0",
   "metadata": {},
   "outputs": [
    {
     "name": "stdout",
     "output_type": "stream",
     "text": [
      "tensor([[0, 0, 1, 1, 2, 3, 4, 5, 5, 6],\n",
      "        [5, 6, 3, 5, 4, 1, 2, 0, 1, 0]])\n"
     ]
    }
   ],
   "source": [
    "adj_mat_edge_index = convert_r_mat_edge_index_to_adj_mat_edge_index(r_mat_edge_index, row_size=3, col_size=4)\n",
    "print(adj_mat_edge_index)"
   ]
  },
  {
   "cell_type": "code",
   "execution_count": 22,
   "id": "3ed79590",
   "metadata": {},
   "outputs": [
    {
     "name": "stdout",
     "output_type": "stream",
     "text": [
      "tensor([[0., 0., 0., 0., 0., 1., 1.],\n",
      "        [0., 0., 0., 1., 0., 1., 0.],\n",
      "        [0., 0., 0., 0., 1., 0., 0.],\n",
      "        [0., 1., 0., 0., 0., 0., 0.],\n",
      "        [0., 0., 1., 0., 0., 0., 0.],\n",
      "        [1., 1., 0., 0., 0., 0., 0.],\n",
      "        [1., 0., 0., 0., 0., 0., 0.]])\n"
     ]
    }
   ],
   "source": [
    "adj_mat = SparseTensor(row=adj_mat_edge_index[0], \n",
    "                                       col=adj_mat_edge_index[1], \n",
    "                                       sparse_sizes=(3+4, 4+3))\n",
    "\n",
    "print(adj_mat.to_dense())"
   ]
  },
  {
   "cell_type": "code",
   "execution_count": 23,
   "id": "8cddca89",
   "metadata": {},
   "outputs": [
    {
     "name": "stdout",
     "output_type": "stream",
     "text": [
      "tensor([[0., 0., 1., 1.],\n",
      "        [1., 0., 1., 0.],\n",
      "        [0., 1., 0., 0.]])\n"
     ]
    }
   ],
   "source": [
    "converted_back_to_r_mat_edge_index = convert_adj_mat_edge_index_to_r_mat_edge_index(adj_mat_edge_index, 3, 4)\n",
    "\n",
    "converted_back_to_r_mat = SparseTensor(row=converted_back_to_r_mat_edge_index[0], \n",
    "                                       col=converted_back_to_r_mat_edge_index[1], \n",
    "                                       sparse_sizes=(3, 4))\n",
    "\n",
    "print(converted_back_to_r_mat.to_dense())"
   ]
  },
  {
   "cell_type": "code",
   "execution_count": null,
   "id": "cb72bc29",
   "metadata": {},
   "outputs": [],
   "source": []
  }
 ],
 "metadata": {
  "kernelspec": {
   "display_name": "Python 3 (ipykernel)",
   "language": "python",
   "name": "python3"
  },
  "language_info": {
   "codemirror_mode": {
    "name": "ipython",
    "version": 3
   },
   "file_extension": ".py",
   "mimetype": "text/x-python",
   "name": "python",
   "nbconvert_exporter": "python",
   "pygments_lexer": "ipython3",
   "version": "3.9.13"
  }
 },
 "nbformat": 4,
 "nbformat_minor": 5
}
