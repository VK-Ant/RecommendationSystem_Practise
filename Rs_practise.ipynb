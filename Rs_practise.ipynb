{
  "nbformat": 4,
  "nbformat_minor": 0,
  "metadata": {
    "colab": {
      "provenance": []
    },
    "kernelspec": {
      "name": "python3",
      "display_name": "Python 3"
    },
    "language_info": {
      "name": "python"
    },
    "accelerator": "GPU",
    "gpuClass": "standard"
  },
  "cells": [
    {
      "cell_type": "code",
      "execution_count": null,
      "metadata": {
        "colab": {
          "base_uri": "https://localhost:8080/"
        },
        "id": "m15ZANE77wb9",
        "outputId": "931bbc03-5dcf-46b6-bc48-e1721202d952"
      },
      "outputs": [
        {
          "output_type": "stream",
          "name": "stdout",
          "text": [
            "Looking in indexes: https://pypi.org/simple, https://us-python.pkg.dev/colab-wheels/public/simple/\n",
            "Collecting pyspark\n",
            "  Downloading pyspark-3.3.1.tar.gz (281.4 MB)\n",
            "\u001b[2K     \u001b[90m━━━━━━━━━━━━━━━━━━━━━━━━━━━━━━━━━━━━━━━\u001b[0m \u001b[32m281.4/281.4 MB\u001b[0m \u001b[31m4.9 MB/s\u001b[0m eta \u001b[36m0:00:00\u001b[0m\n",
            "\u001b[?25h  Preparing metadata (setup.py) ... \u001b[?25l\u001b[?25hdone\n",
            "Collecting py4j==0.10.9.5\n",
            "  Downloading py4j-0.10.9.5-py2.py3-none-any.whl (199 kB)\n",
            "\u001b[2K     \u001b[90m━━━━━━━━━━━━━━━━━━━━━━━━━━━━━━━━━━━━━━\u001b[0m \u001b[32m199.7/199.7 KB\u001b[0m \u001b[31m25.4 MB/s\u001b[0m eta \u001b[36m0:00:00\u001b[0m\n",
            "\u001b[?25hBuilding wheels for collected packages: pyspark\n",
            "  Building wheel for pyspark (setup.py) ... \u001b[?25l\u001b[?25hdone\n",
            "  Created wheel for pyspark: filename=pyspark-3.3.1-py2.py3-none-any.whl size=281845512 sha256=9edcec08141d58d7ae5216bdf2d7725444f9f12eed2e42e6a1598d7b87d84ff8\n",
            "  Stored in directory: /root/.cache/pip/wheels/43/dc/11/ec201cd671da62fa9c5cc77078235e40722170ceba231d7598\n",
            "Successfully built pyspark\n",
            "Installing collected packages: py4j, pyspark\n",
            "Successfully installed py4j-0.10.9.5 pyspark-3.3.1\n"
          ]
        }
      ],
      "source": [
        "!pip install pyspark"
      ]
    },
    {
      "cell_type": "markdown",
      "source": [
        "# import necessary library"
      ],
      "metadata": {
        "id": "lqLxm-ee9GjU"
      }
    },
    {
      "cell_type": "code",
      "source": [
        "from pyspark.sql import SparkSession\n",
        "from pyspark.ml.evaluation import RegressionEvaluator\n",
        "from pyspark.ml.recommendation import ALS\n",
        "import random\n",
        "\n",
        "spark = SparkSession.builder.appName('Recommendation system').getOrCreate()"
      ],
      "metadata": {
        "id": "vx8Lc_1H70NW"
      },
      "execution_count": null,
      "outputs": []
    },
    {
      "cell_type": "code",
      "source": [
        "# Read the dataset\n",
        "data = spark.read.csv('/content/drive/MyDrive/RS/ml-latest-small/ratings.csv',inferSchema=True,header=True)\n"
      ],
      "metadata": {
        "id": "nrAQHn5s8a5i"
      },
      "execution_count": null,
      "outputs": []
    },
    {
      "cell_type": "code",
      "source": [
        "print(data.count(),len(data.columns))\n"
      ],
      "metadata": {
        "colab": {
          "base_uri": "https://localhost:8080/"
        },
        "id": "Lt9JpMsL_Wfy",
        "outputId": "1e3fe210-f61b-4248-eb02-a9cf54316c96"
      },
      "execution_count": null,
      "outputs": [
        {
          "output_type": "stream",
          "name": "stdout",
          "text": [
            "100836 4\n"
          ]
        }
      ]
    },
    {
      "cell_type": "code",
      "source": [
        "data.printSchema()"
      ],
      "metadata": {
        "colab": {
          "base_uri": "https://localhost:8080/"
        },
        "id": "O6braZ0VBqzL",
        "outputId": "b347e472-03ff-469b-8579-7a066c8e296e"
      },
      "execution_count": null,
      "outputs": [
        {
          "output_type": "stream",
          "name": "stdout",
          "text": [
            "root\n",
            " |-- userId: integer (nullable = true)\n",
            " |-- movieId: integer (nullable = true)\n",
            " |-- rating: double (nullable = true)\n",
            " |-- timestamp: integer (nullable = true)\n",
            "\n"
          ]
        }
      ]
    },
    {
      "cell_type": "code",
      "source": [
        "data.show(10)"
      ],
      "metadata": {
        "colab": {
          "base_uri": "https://localhost:8080/"
        },
        "id": "3fE4LJA1Bu4b",
        "outputId": "5fa97f7a-36b3-4fa3-d301-f2cff9996096"
      },
      "execution_count": null,
      "outputs": [
        {
          "output_type": "stream",
          "name": "stdout",
          "text": [
            "+------+-------+------+---------+\n",
            "|userId|movieId|rating|timestamp|\n",
            "+------+-------+------+---------+\n",
            "|     1|      1|   4.0|964982703|\n",
            "|     1|      3|   4.0|964981247|\n",
            "|     1|      6|   4.0|964982224|\n",
            "|     1|     47|   5.0|964983815|\n",
            "|     1|     50|   5.0|964982931|\n",
            "|     1|     70|   3.0|964982400|\n",
            "|     1|    101|   5.0|964980868|\n",
            "|     1|    110|   4.0|964982176|\n",
            "|     1|    151|   5.0|964984041|\n",
            "|     1|    157|   5.0|964984100|\n",
            "+------+-------+------+---------+\n",
            "only showing top 10 rows\n",
            "\n"
          ]
        }
      ]
    },
    {
      "cell_type": "code",
      "source": [
        "data.groupBy('userId').count().orderBy('count',ascending=False).show(10,False)"
      ],
      "metadata": {
        "colab": {
          "base_uri": "https://localhost:8080/"
        },
        "id": "uZ_8rDeGDZrr",
        "outputId": "db43cec2-48ec-43e1-8b0f-131599619406"
      },
      "execution_count": null,
      "outputs": [
        {
          "output_type": "stream",
          "name": "stdout",
          "text": [
            "+------+-----+\n",
            "|userId|count|\n",
            "+------+-----+\n",
            "|414   |2698 |\n",
            "|599   |2478 |\n",
            "|474   |2108 |\n",
            "|448   |1864 |\n",
            "|274   |1346 |\n",
            "|610   |1302 |\n",
            "|68    |1260 |\n",
            "|380   |1218 |\n",
            "|606   |1115 |\n",
            "|288   |1055 |\n",
            "+------+-----+\n",
            "only showing top 10 rows\n",
            "\n"
          ]
        }
      ]
    },
    {
      "cell_type": "code",
      "source": [
        "data.groupBy('userId').count().orderBy('count',ascending=True).show(10,False)"
      ],
      "metadata": {
        "colab": {
          "base_uri": "https://localhost:8080/"
        },
        "id": "l5rL6ed2FHVR",
        "outputId": "6e73745a-2172-4b2d-db6b-ea5afc75ca65"
      },
      "execution_count": null,
      "outputs": [
        {
          "output_type": "stream",
          "name": "stdout",
          "text": [
            "+------+-----+\n",
            "|userId|count|\n",
            "+------+-----+\n",
            "|53    |20   |\n",
            "|406   |20   |\n",
            "|431   |20   |\n",
            "|442   |20   |\n",
            "|189   |20   |\n",
            "|207   |20   |\n",
            "|257   |20   |\n",
            "|278   |20   |\n",
            "|194   |20   |\n",
            "|569   |20   |\n",
            "+------+-----+\n",
            "only showing top 10 rows\n",
            "\n"
          ]
        }
      ]
    },
    {
      "cell_type": "code",
      "source": [
        "data.groupBy('movieId').count().orderBy('count',ascending=False).show(10,False)"
      ],
      "metadata": {
        "colab": {
          "base_uri": "https://localhost:8080/"
        },
        "id": "0c7vNKEgGFzA",
        "outputId": "656bf64b-a5cc-4853-f9bd-39d8ec90ab3b"
      },
      "execution_count": null,
      "outputs": [
        {
          "output_type": "stream",
          "name": "stdout",
          "text": [
            "+-------+-----+\n",
            "|movieId|count|\n",
            "+-------+-----+\n",
            "|356    |329  |\n",
            "|318    |317  |\n",
            "|296    |307  |\n",
            "|593    |279  |\n",
            "|2571   |278  |\n",
            "|260    |251  |\n",
            "|480    |238  |\n",
            "|110    |237  |\n",
            "|589    |224  |\n",
            "|527    |220  |\n",
            "+-------+-----+\n",
            "only showing top 10 rows\n",
            "\n"
          ]
        }
      ]
    },
    {
      "cell_type": "code",
      "source": [
        "data.groupBy('rating').count().orderBy('count',ascending=False).show(10,False)"
      ],
      "metadata": {
        "id": "OKWX0AZfGSum",
        "colab": {
          "base_uri": "https://localhost:8080/"
        },
        "outputId": "f8c307b7-534a-4ccb-9334-9bee7ef974fc"
      },
      "execution_count": null,
      "outputs": [
        {
          "output_type": "stream",
          "name": "stdout",
          "text": [
            "+------+-----+\n",
            "|rating|count|\n",
            "+------+-----+\n",
            "|4.0   |26818|\n",
            "|3.0   |20047|\n",
            "|5.0   |13211|\n",
            "|3.5   |13136|\n",
            "|4.5   |8551 |\n",
            "|2.0   |7551 |\n",
            "|2.5   |5550 |\n",
            "|1.0   |2811 |\n",
            "|1.5   |1791 |\n",
            "|0.5   |1370 |\n",
            "+------+-----+\n",
            "\n"
          ]
        }
      ]
    },
    {
      "cell_type": "code",
      "source": [
        "#feature engineering\n",
        "from pyspark.sql.functions import *\n",
        "from pyspark.ml.feature import StringIndexer,IndexToString"
      ],
      "metadata": {
        "id": "lvz0QgXhGkGY"
      },
      "execution_count": null,
      "outputs": []
    },
    {
      "cell_type": "code",
      "source": [
        "stringIndexer = StringIndexer(inputCol=\"movieId\",outputCol=\"movieId_new\")\n",
        "model = stringIndexer.fit(data)"
      ],
      "metadata": {
        "id": "b35JIaeVwe4M"
      },
      "execution_count": null,
      "outputs": []
    },
    {
      "cell_type": "code",
      "source": [
        "indexed = model.transform(data)"
      ],
      "metadata": {
        "id": "wkIqDXkMyj7o"
      },
      "execution_count": null,
      "outputs": []
    },
    {
      "cell_type": "code",
      "source": [
        "indexed.show(10)"
      ],
      "metadata": {
        "colab": {
          "base_uri": "https://localhost:8080/"
        },
        "id": "xh0IWmWezDY9",
        "outputId": "9093f384-4939-409e-88ab-ac6abe8a60e5"
      },
      "execution_count": null,
      "outputs": [
        {
          "output_type": "stream",
          "name": "stdout",
          "text": [
            "+------+-------+------+---------+-----------+\n",
            "|userId|movieId|rating|timestamp|movieId_new|\n",
            "+------+-------+------+---------+-----------+\n",
            "|     1|      1|   4.0|964982703|       11.0|\n",
            "|     1|      3|   4.0|964981247|      422.0|\n",
            "|     1|      6|   4.0|964982224|      129.0|\n",
            "|     1|     47|   5.0|964983815|       15.0|\n",
            "|     1|     50|   5.0|964982931|       14.0|\n",
            "|     1|     70|   3.0|964982400|      390.0|\n",
            "|     1|    101|   5.0|964980868|     1095.0|\n",
            "|     1|    110|   4.0|964982176|        7.0|\n",
            "|     1|    151|   5.0|964984041|      534.0|\n",
            "|     1|    157|   5.0|964984100|     1991.0|\n",
            "+------+-------+------+---------+-----------+\n",
            "only showing top 10 rows\n",
            "\n"
          ]
        }
      ]
    },
    {
      "cell_type": "code",
      "source": [
        "indexed.groupBy('movieId_new').count().orderBy('count', ascending=False).show(10,False)"
      ],
      "metadata": {
        "colab": {
          "base_uri": "https://localhost:8080/"
        },
        "id": "D8bkadC7zL9O",
        "outputId": "027e1361-88c6-49db-d836-688cc0ee046b"
      },
      "execution_count": null,
      "outputs": [
        {
          "output_type": "stream",
          "name": "stdout",
          "text": [
            "+-----------+-----+\n",
            "|movieId_new|count|\n",
            "+-----------+-----+\n",
            "|0.0        |329  |\n",
            "|1.0        |317  |\n",
            "|2.0        |307  |\n",
            "|3.0        |279  |\n",
            "|4.0        |278  |\n",
            "|5.0        |251  |\n",
            "|6.0        |238  |\n",
            "|7.0        |237  |\n",
            "|8.0        |224  |\n",
            "|9.0        |220  |\n",
            "+-----------+-----+\n",
            "only showing top 10 rows\n",
            "\n"
          ]
        }
      ]
    },
    {
      "cell_type": "code",
      "source": [
        "#spliting the dataset\n",
        "\n",
        "train, test = indexed.randomSplit([0.75,0.25])"
      ],
      "metadata": {
        "id": "5q6t8IqI0V1T"
      },
      "execution_count": null,
      "outputs": []
    },
    {
      "cell_type": "code",
      "source": [
        "train.count()"
      ],
      "metadata": {
        "colab": {
          "base_uri": "https://localhost:8080/"
        },
        "id": "Sljqbo7N01QK",
        "outputId": "f6be26e9-60f9-4c37-a118-bd45efd75780"
      },
      "execution_count": null,
      "outputs": [
        {
          "output_type": "execute_result",
          "data": {
            "text/plain": [
              "75597"
            ]
          },
          "metadata": {},
          "execution_count": 17
        }
      ]
    },
    {
      "cell_type": "code",
      "source": [
        "test.count()"
      ],
      "metadata": {
        "colab": {
          "base_uri": "https://localhost:8080/"
        },
        "id": "GuHQ-JHi09WN",
        "outputId": "a194261c-e795-4740-d33d-ca447147f8ff"
      },
      "execution_count": null,
      "outputs": [
        {
          "output_type": "execute_result",
          "data": {
            "text/plain": [
              "25239"
            ]
          },
          "metadata": {},
          "execution_count": 18
        }
      ]
    },
    {
      "cell_type": "code",
      "source": [
        "#build and train recommeder model\n",
        "from pyspark.ml.recommendation import ALS\n",
        "\n",
        "rec = ALS(maxIter = 10, regParam=0.01,userCol='userId',itemCol='movieId_new',ratingCol='rating',nonnegative=True, coldStartStrategy=\"drop\")\n"
      ],
      "metadata": {
        "id": "DAPjBMhk1Heg"
      },
      "execution_count": null,
      "outputs": []
    },
    {
      "cell_type": "code",
      "source": [
        "rec_model = rec.fit(train)"
      ],
      "metadata": {
        "id": "nf3MX5n7sTY-"
      },
      "execution_count": null,
      "outputs": []
    },
    {
      "cell_type": "markdown",
      "source": [
        "# predictions and evalution on test data"
      ],
      "metadata": {
        "id": "4rYBHD5ouPJk"
      }
    },
    {
      "cell_type": "code",
      "source": [
        "predicted_rating = rec_model.transform(test)"
      ],
      "metadata": {
        "id": "DxMlvHgHuJvd"
      },
      "execution_count": null,
      "outputs": []
    },
    {
      "cell_type": "code",
      "source": [
        "predicted_rating.printSchema()"
      ],
      "metadata": {
        "colab": {
          "base_uri": "https://localhost:8080/"
        },
        "id": "87zWEFBguaUh",
        "outputId": "78993867-140e-4bb0-9c3f-ae595565f407"
      },
      "execution_count": null,
      "outputs": [
        {
          "output_type": "stream",
          "name": "stdout",
          "text": [
            "root\n",
            " |-- userId: integer (nullable = true)\n",
            " |-- movieId: integer (nullable = true)\n",
            " |-- rating: double (nullable = true)\n",
            " |-- timestamp: integer (nullable = true)\n",
            " |-- movieId_new: double (nullable = false)\n",
            " |-- prediction: float (nullable = false)\n",
            "\n"
          ]
        }
      ]
    },
    {
      "cell_type": "code",
      "source": [
        "predicted_rating.orderBy(rand()).show(10)"
      ],
      "metadata": {
        "colab": {
          "base_uri": "https://localhost:8080/"
        },
        "id": "59jyNs5ivWVA",
        "outputId": "a713ddf7-d12d-43f5-8676-0c47ce0429ea"
      },
      "execution_count": null,
      "outputs": [
        {
          "output_type": "stream",
          "name": "stdout",
          "text": [
            "+------+-------+------+----------+-----------+----------+\n",
            "|userId|movieId|rating| timestamp|movieId_new|prediction|\n",
            "+------+-------+------+----------+-----------+----------+\n",
            "|   288|  33794|   4.5|1145817438|       93.0| 4.0262127|\n",
            "|    19|   1376|   4.0| 965703698|      552.0|  3.312953|\n",
            "|   474|   4019|   4.0| 994819034|      921.0| 2.9155598|\n",
            "|   140|   1608|   3.0| 949667202|      351.0| 3.1715355|\n",
            "|   414|   2949|   3.0| 961515684|      787.0| 4.0705953|\n",
            "|    80|   4720|   4.0|1377308974|      387.0|  4.319933|\n",
            "|   597|   2100|   4.0| 941641110|      432.0| 3.7349045|\n",
            "|   113|   1014|   5.0| 980307201|     3271.0|  3.591731|\n",
            "|   474|    921|   3.0|1087832282|     2433.0| 3.1492658|\n",
            "|   363|    260|   2.0|1502584358|        5.0| 2.5852103|\n",
            "+------+-------+------+----------+-----------+----------+\n",
            "only showing top 10 rows\n",
            "\n"
          ]
        }
      ]
    },
    {
      "cell_type": "code",
      "source": [
        "from pyspark.ml.evaluation import RegressionEvaluator\n",
        "\n",
        "evaluator = RegressionEvaluator(metricName='rmse', predictionCol='prediction',labelCol='rating')"
      ],
      "metadata": {
        "id": "MCWdEo0YvpA3"
      },
      "execution_count": null,
      "outputs": []
    },
    {
      "cell_type": "code",
      "source": [
        "rmse = evaluator.evaluate(predicted_rating)"
      ],
      "metadata": {
        "id": "4Ywg1zzbxdfz"
      },
      "execution_count": null,
      "outputs": []
    },
    {
      "cell_type": "code",
      "source": [
        "print('rmse',rmse)"
      ],
      "metadata": {
        "colab": {
          "base_uri": "https://localhost:8080/"
        },
        "id": "gdcaSz4lx8RL",
        "outputId": "7cfc9cb5-a152-42a7-b1a0-33399a945b5b"
      },
      "execution_count": null,
      "outputs": [
        {
          "output_type": "stream",
          "name": "stdout",
          "text": [
            "rmse 1.0319759129196613\n"
          ]
        }
      ]
    },
    {
      "cell_type": "code",
      "source": [
        "#recommend top movie that active user might like\n",
        "unique_movies_id = indexed.select('movieId_new').distinct()"
      ],
      "metadata": {
        "id": "lZW73fxPyWjz"
      },
      "execution_count": null,
      "outputs": []
    },
    {
      "cell_type": "code",
      "source": [
        "unique_movies_id.count()"
      ],
      "metadata": {
        "colab": {
          "base_uri": "https://localhost:8080/"
        },
        "id": "9areu9oRzDAj",
        "outputId": "191096f0-2141-467c-e652-0377ba73911e"
      },
      "execution_count": null,
      "outputs": [
        {
          "output_type": "execute_result",
          "data": {
            "text/plain": [
              "9724"
            ]
          },
          "metadata": {},
          "execution_count": 36
        }
      ]
    },
    {
      "cell_type": "code",
      "source": [
        "a = unique_movies_id.alias('a')\n",
        "a.columns"
      ],
      "metadata": {
        "colab": {
          "base_uri": "https://localhost:8080/"
        },
        "id": "_3yhoomyzHDJ",
        "outputId": "9872e8c0-26d7-4894-ffce-988dc4d32223"
      },
      "execution_count": null,
      "outputs": [
        {
          "output_type": "execute_result",
          "data": {
            "text/plain": [
              "['movieId_new']"
            ]
          },
          "metadata": {},
          "execution_count": 48
        }
      ]
    },
    {
      "cell_type": "code",
      "source": [
        "#input-userid\n",
        "user_id = 80"
      ],
      "metadata": {
        "id": "tTKrpIGNzpfa"
      },
      "execution_count": null,
      "outputs": []
    },
    {
      "cell_type": "code",
      "source": [
        "#watched_movie\n",
        "watched_movies = indexed.filter(indexed['userId'] == user_id).select('movieid_new').distinct()"
      ],
      "metadata": {
        "id": "kmJH2e3Qzx_0"
      },
      "execution_count": null,
      "outputs": []
    },
    {
      "cell_type": "code",
      "source": [
        "watched_movies.count()"
      ],
      "metadata": {
        "colab": {
          "base_uri": "https://localhost:8080/"
        },
        "id": "lMvy9psB1S70",
        "outputId": "31482b30-6833-4cac-9452-4e06318e272a"
      },
      "execution_count": null,
      "outputs": [
        {
          "output_type": "execute_result",
          "data": {
            "text/plain": [
              "167"
            ]
          },
          "metadata": {},
          "execution_count": 52
        }
      ]
    },
    {
      "cell_type": "code",
      "source": [
        "b = watched_movies.alias('b')\n",
        "b.columns"
      ],
      "metadata": {
        "colab": {
          "base_uri": "https://localhost:8080/"
        },
        "id": "qeqhEElk1Ws_",
        "outputId": "af08b893-d1e3-45f5-9e98-b6fbca919496"
      },
      "execution_count": null,
      "outputs": [
        {
          "output_type": "execute_result",
          "data": {
            "text/plain": [
              "['movieid_new']"
            ]
          },
          "metadata": {},
          "execution_count": 53
        }
      ]
    },
    {
      "cell_type": "code",
      "source": [
        "total_movies = a.join(b,a.movieid_new == b.movieid_new,how='left')"
      ],
      "metadata": {
        "colab": {
          "base_uri": "https://localhost:8080/",
          "height": 361
        },
        "id": "BUDBg17I2Y6p",
        "outputId": "18863c9a-c369-452e-eb7b-be653aed015e"
      },
      "execution_count": null,
      "outputs": [
        {
          "output_type": "error",
          "ename": "AttributeError",
          "evalue": "ignored",
          "traceback": [
            "\u001b[0;31m---------------------------------------------------------------------------\u001b[0m",
            "\u001b[0;31mAttributeError\u001b[0m                            Traceback (most recent call last)",
            "\u001b[0;32m<ipython-input-54-a64164287135>\u001b[0m in \u001b[0;36m<module>\u001b[0;34m\u001b[0m\n\u001b[0;32m----> 1\u001b[0;31m \u001b[0mtotal_movies\u001b[0m \u001b[0;34m=\u001b[0m \u001b[0ma\u001b[0m\u001b[0;34m.\u001b[0m\u001b[0mjoin\u001b[0m\u001b[0;34m(\u001b[0m\u001b[0mb\u001b[0m\u001b[0;34m,\u001b[0m\u001b[0ma\u001b[0m\u001b[0;34m.\u001b[0m\u001b[0mmovieid_new\u001b[0m \u001b[0;34m==\u001b[0m \u001b[0mb\u001b[0m\u001b[0;34m.\u001b[0m\u001b[0mmovieid_new\u001b[0m\u001b[0;34m,\u001b[0m\u001b[0mhow\u001b[0m\u001b[0;34m=\u001b[0m\u001b[0;34m'left'\u001b[0m\u001b[0;34m)\u001b[0m\u001b[0;34m\u001b[0m\u001b[0;34m\u001b[0m\u001b[0m\n\u001b[0m",
            "\u001b[0;32m/usr/local/lib/python3.8/dist-packages/pyspark/sql/dataframe.py\u001b[0m in \u001b[0;36m__getattr__\u001b[0;34m(self, name)\u001b[0m\n\u001b[1;32m   1986\u001b[0m         \"\"\"\n\u001b[1;32m   1987\u001b[0m         \u001b[0;32mif\u001b[0m \u001b[0mname\u001b[0m \u001b[0;32mnot\u001b[0m \u001b[0;32min\u001b[0m \u001b[0mself\u001b[0m\u001b[0;34m.\u001b[0m\u001b[0mcolumns\u001b[0m\u001b[0;34m:\u001b[0m\u001b[0;34m\u001b[0m\u001b[0;34m\u001b[0m\u001b[0m\n\u001b[0;32m-> 1988\u001b[0;31m             raise AttributeError(\n\u001b[0m\u001b[1;32m   1989\u001b[0m                 \u001b[0;34m\"'%s' object has no attribute '%s'\"\u001b[0m \u001b[0;34m%\u001b[0m \u001b[0;34m(\u001b[0m\u001b[0mself\u001b[0m\u001b[0;34m.\u001b[0m\u001b[0m__class__\u001b[0m\u001b[0;34m.\u001b[0m\u001b[0m__name__\u001b[0m\u001b[0;34m,\u001b[0m \u001b[0mname\u001b[0m\u001b[0;34m)\u001b[0m\u001b[0;34m\u001b[0m\u001b[0;34m\u001b[0m\u001b[0m\n\u001b[1;32m   1990\u001b[0m             )\n",
            "\u001b[0;31mAttributeError\u001b[0m: 'DataFrame' object has no attribute 'movieid_new'"
          ]
        }
      ]
    },
    {
      "cell_type": "code",
      "source": [],
      "metadata": {
        "id": "jQ6ns-8n1wcH"
      },
      "execution_count": null,
      "outputs": []
    }
  ]
}