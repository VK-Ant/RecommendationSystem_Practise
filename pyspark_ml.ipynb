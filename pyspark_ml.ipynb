{
  "nbformat": 4,
  "nbformat_minor": 0,
  "metadata": {
    "colab": {
      "provenance": [],
      "gpuType": "T4"
    },
    "kernelspec": {
      "name": "python3",
      "display_name": "Python 3"
    },
    "language_info": {
      "name": "python"
    },
    "accelerator": "GPU"
  },
  "cells": [
    {
      "cell_type": "markdown",
      "source": [
        "# **Iris Dataset**"
      ],
      "metadata": {
        "id": "tWfIyff33Gpq"
      }
    },
    {
      "cell_type": "code",
      "execution_count": null,
      "metadata": {
        "colab": {
          "base_uri": "https://localhost:8080/"
        },
        "id": "aYjo4Votk8w7",
        "outputId": "90e8a7eb-57b5-4dfb-eb89-129b954d2117"
      },
      "outputs": [
        {
          "output_type": "stream",
          "name": "stdout",
          "text": [
            "Collecting pyspark\n",
            "  Downloading pyspark-3.5.2.tar.gz (317.3 MB)\n",
            "\u001b[2K     \u001b[90m━━━━━━━━━━━━━━━━━━━━━━━━━━━━━━━━━━━━━━━━\u001b[0m \u001b[32m317.3/317.3 MB\u001b[0m \u001b[31m4.3 MB/s\u001b[0m eta \u001b[36m0:00:00\u001b[0m\n",
            "\u001b[?25h  Preparing metadata (setup.py) ... \u001b[?25l\u001b[?25hdone\n",
            "Requirement already satisfied: py4j==0.10.9.7 in /usr/local/lib/python3.10/dist-packages (from pyspark) (0.10.9.7)\n",
            "Building wheels for collected packages: pyspark\n",
            "  Building wheel for pyspark (setup.py) ... \u001b[?25l\u001b[?25hdone\n",
            "  Created wheel for pyspark: filename=pyspark-3.5.2-py2.py3-none-any.whl size=317812365 sha256=15a26d81a9999ccef12d001be7fe6dfd4cc7f45f66161dce1a6b59ab0899e052\n",
            "  Stored in directory: /root/.cache/pip/wheels/34/34/bd/03944534c44b677cd5859f248090daa9fb27b3c8f8e5f49574\n",
            "Successfully built pyspark\n",
            "Installing collected packages: pyspark\n",
            "Successfully installed pyspark-3.5.2\n"
          ]
        }
      ],
      "source": [
        "!pip install pyspark\n"
      ]
    },
    {
      "cell_type": "code",
      "source": [
        "from pyspark.sql import SparkSession\n",
        "from pyspark.ml.feature import StringIndexer, VectorAssembler\n",
        "from pyspark.ml.classification import LogisticRegression\n",
        "from pyspark.ml.evaluation import MulticlassClassificationEvaluator\n",
        "\n",
        "# Create a SparkSession\n",
        "spark = SparkSession.builder.appName(\"IrisDataset\").getOrCreate()\n",
        "\n",
        "# Load the dataset\n",
        "iris_df = spark.read.csv(\"/content/Iris.csv\", header=True, inferSchema=True)\n",
        "\n",
        "# Convert the 'Species' column to numeric using StringIndexer\n",
        "indexer = StringIndexer(inputCol=\"Species\", outputCol=\"SpeciesIndex\")\n",
        "iris_df = indexer.fit(iris_df).transform(iris_df)\n",
        "\n",
        "# Combine feature columns into a single feature vector\n",
        "feature_columns = [\"SepalLengthCm\", \"SepalWidthCm\", \"PetalLengthCm\", \"PetalWidthCm\"]\n",
        "assembler = VectorAssembler(inputCols=feature_columns, outputCol=\"features\")\n",
        "iris_df = assembler.transform(iris_df)\n",
        "\n",
        "# Check if the features column exists\n",
        "iris_df.printSchema()\n",
        "\n",
        "# Show the final dataset with features\n",
        "iris_df.select(\"features\", \"SpeciesIndex\").show(5)\n",
        "\n",
        "# Split the data into training and testing sets\n",
        "train_df, test_df = iris_df.randomSplit([0.7, 0.3])\n",
        "\n",
        "# Create a Logistic Regression model\n",
        "lr = LogisticRegression(featuresCol=\"features\", labelCol=\"SpeciesIndex\")\n",
        "\n",
        "# Train the model\n",
        "lr_model = lr.fit(train_df)\n",
        "\n",
        "# Make predictions on the test set\n",
        "predictions = lr_model.transform(test_df)\n",
        "\n",
        "# Show the predictions\n",
        "predictions.select(\"features\", \"SpeciesIndex\", \"prediction\").show(5)\n",
        "\n",
        "# Evaluate the model\n",
        "evaluator = MulticlassClassificationEvaluator(labelCol=\"SpeciesIndex\", predictionCol=\"prediction\", metricName=\"accuracy\")\n",
        "accuracy = evaluator.evaluate(predictions)\n",
        "print(f\"Model Accuracy: {accuracy:.2f}\")\n"
      ],
      "metadata": {
        "colab": {
          "base_uri": "https://localhost:8080/"
        },
        "id": "WKKuOPozl38F",
        "outputId": "4683d05d-ccf4-4d8b-b865-b26614fbc934"
      },
      "execution_count": null,
      "outputs": [
        {
          "output_type": "stream",
          "name": "stdout",
          "text": [
            "root\n",
            " |-- Id: integer (nullable = true)\n",
            " |-- SepalLengthCm: double (nullable = true)\n",
            " |-- SepalWidthCm: double (nullable = true)\n",
            " |-- PetalLengthCm: double (nullable = true)\n",
            " |-- PetalWidthCm: double (nullable = true)\n",
            " |-- Species: string (nullable = true)\n",
            " |-- SpeciesIndex: double (nullable = false)\n",
            " |-- features: vector (nullable = true)\n",
            "\n",
            "+-----------------+------------+\n",
            "|         features|SpeciesIndex|\n",
            "+-----------------+------------+\n",
            "|[5.1,3.5,1.4,0.2]|         0.0|\n",
            "|[4.9,3.0,1.4,0.2]|         0.0|\n",
            "|[4.7,3.2,1.3,0.2]|         0.0|\n",
            "|[4.6,3.1,1.5,0.2]|         0.0|\n",
            "|[5.0,3.6,1.4,0.2]|         0.0|\n",
            "+-----------------+------------+\n",
            "only showing top 5 rows\n",
            "\n",
            "+-----------------+------------+----------+\n",
            "|         features|SpeciesIndex|prediction|\n",
            "+-----------------+------------+----------+\n",
            "|[4.6,3.4,1.4,0.3]|         0.0|       0.0|\n",
            "|[4.4,2.9,1.4,0.2]|         0.0|       0.0|\n",
            "|[5.4,3.7,1.5,0.2]|         0.0|       0.0|\n",
            "|[4.3,3.0,1.1,0.1]|         0.0|       0.0|\n",
            "|[5.4,3.9,1.3,0.4]|         0.0|       0.0|\n",
            "+-----------------+------------+----------+\n",
            "only showing top 5 rows\n",
            "\n",
            "Model Accuracy: 0.98\n"
          ]
        }
      ]
    },
    {
      "cell_type": "markdown",
      "source": [
        "# **Book Recommendation**"
      ],
      "metadata": {
        "id": "VkyLLoFl3OhI"
      }
    },
    {
      "cell_type": "code",
      "source": [
        "#importing the required pyspark library\n",
        "from pyspark.sql import SparkSession\n",
        "from pyspark.ml.evaluation import RegressionEvaluator\n",
        "from pyspark.ml.recommendation import ALS\n",
        "\n",
        "#Setup Spark Session\n",
        "spark = SparkSession.builder.appName('recommedation system').getOrCreate()\n",
        "\n",
        "#CSV file can be downloaded from the link mentioned above.\n",
        "data = spark.read.csv('book_ratings.csv',\n",
        "\t\t\t\t\tinferSchema=True,header=True)\n",
        "\n",
        "data.show(5)\n",
        "\n"
      ],
      "metadata": {
        "colab": {
          "base_uri": "https://localhost:8080/"
        },
        "id": "Fqw8c0Qwme9O",
        "outputId": "537a3370-4ab3-41df-e4e5-69fcd61fdc6a"
      },
      "execution_count": null,
      "outputs": [
        {
          "output_type": "stream",
          "name": "stdout",
          "text": [
            "+-------+-------+------+\n",
            "|book_id|user_id|rating|\n",
            "+-------+-------+------+\n",
            "|      1|    314|     5|\n",
            "|      1|    439|     3|\n",
            "|      1|    588|     5|\n",
            "|      1|   1169|     4|\n",
            "|      1|   1185|     4|\n",
            "+-------+-------+------+\n",
            "only showing top 5 rows\n",
            "\n"
          ]
        }
      ]
    },
    {
      "cell_type": "code",
      "source": [
        "\n",
        "data.describe().show()\n"
      ],
      "metadata": {
        "colab": {
          "base_uri": "https://localhost:8080/"
        },
        "id": "nakxDvNUms7U",
        "outputId": "e48cc8dc-5968-4411-8c8b-d6706e876888"
      },
      "execution_count": null,
      "outputs": [
        {
          "output_type": "stream",
          "name": "stdout",
          "text": [
            "+-------+-----------------+------------------+------------------+\n",
            "|summary|          book_id|           user_id|            rating|\n",
            "+-------+-----------------+------------------+------------------+\n",
            "|  count|           981756|            981756|            981756|\n",
            "|   mean|4943.275635697668|25616.759933221696|3.8565335989797873|\n",
            "| stddev|2873.207414896114|15228.338825882167|0.9839408559620033|\n",
            "|    min|                1|                 1|                 1|\n",
            "|    max|            10000|             53424|                 5|\n",
            "+-------+-----------------+------------------+------------------+\n",
            "\n"
          ]
        }
      ]
    },
    {
      "cell_type": "code",
      "source": [
        "# Dividing the data using random split into train_data and test_data\n",
        "# in 80% and 20% respectively\n",
        "train_data, test_data = data.randomSplit([0.8, 0.2])\n",
        "# Build the recommendation model using ALS on the training data\n",
        "als = ALS(maxIter=5,\n",
        "\t\tregParam=0.01,\n",
        "\t\tuserCol=\"user_id\",\n",
        "\t\titemCol=\"book_id\",\n",
        "\t\tratingCol=\"rating\")\n",
        "\n",
        "#Fitting the model on the train_data\n",
        "model = als.fit(train_data)\n",
        "# Evaluate the model by computing the RMSE on the test data\n",
        "predictions = model.transform(test_data)\n",
        "\n",
        "#Displaying predictions calculated by the model\n",
        "predictions.show()\n"
      ],
      "metadata": {
        "colab": {
          "base_uri": "https://localhost:8080/"
        },
        "id": "WIbceJB9om1b",
        "outputId": "602bbe5f-b364-466c-8406-b2a3654f96f3"
      },
      "execution_count": null,
      "outputs": [
        {
          "output_type": "stream",
          "name": "stdout",
          "text": [
            "+-------+-------+------+----------+\n",
            "|book_id|user_id|rating|prediction|\n",
            "+-------+-------+------+----------+\n",
            "|      1|   6630|     5|  4.483197|\n",
            "|      1|  10140|     4| 3.6721985|\n",
            "|      1|  13544|     5| 4.1506157|\n",
            "|      1|  18361|     4| 4.5025406|\n",
            "|      1|  21487|     4| 4.2023754|\n",
            "|      1|  23576|     4| 3.7437992|\n",
            "|      1|  24326|     5| 4.5372376|\n",
            "|      1|  25164|     4| 3.9830015|\n",
            "|      1|  28767|     5| 3.6874263|\n",
            "|      1|  38475|     4| 4.1759586|\n",
            "|      1|  51480|     1| 2.0493066|\n",
            "|   6627|  30914|     4| 3.1556072|\n",
            "|   6627|  34061|     5|   4.25294|\n",
            "|   6628|    193|     5|  5.645776|\n",
            "|   6628|   6218|     4|  2.904181|\n",
            "|   6628|  34197|     5| 0.9282155|\n",
            "|      1|   3662|     4| 4.7629504|\n",
            "|      1|   9246|     1| 3.6527658|\n",
            "|      1|  18031|     5|  4.397327|\n",
            "|      1|  20076|     3| 3.6018338|\n",
            "+-------+-------+------+----------+\n",
            "only showing top 20 rows\n",
            "\n"
          ]
        }
      ]
    },
    {
      "cell_type": "code",
      "source": [
        "#Printing and calculating RMSE\n",
        "evaluator = RegressionEvaluator(metricName=\"rmse\", labelCol=\"rating\",predictionCol=\"prediction\")\n",
        "rmse = evaluator.evaluate(predictions)\n",
        "print(\"Root-mean-square error = \" + rmse))\n"
      ],
      "metadata": {
        "colab": {
          "base_uri": "https://localhost:8080/"
        },
        "id": "vyEu5TY2osUU",
        "outputId": "5860befc-b9dc-437c-8d72-28adcf65b967"
      },
      "execution_count": null,
      "outputs": [
        {
          "output_type": "stream",
          "name": "stdout",
          "text": [
            "Root-mean-square error = nan\n"
          ]
        }
      ]
    },
    {
      "cell_type": "code",
      "source": [
        "#Filtering user with user id \"5461\" with book id on which it has given the reviews\n",
        "user1 = test_data.filter(test_data['user_id']==5461).select(['book_id','user_id'])\n",
        "\n",
        "#Displaying user1 data\n",
        "user1.show()\n"
      ],
      "metadata": {
        "colab": {
          "base_uri": "https://localhost:8080/"
        },
        "id": "ErPNN5gjoyO6",
        "outputId": "52c3a6fe-dd6b-4692-b5db-a1c9f7b88382"
      },
      "execution_count": null,
      "outputs": [
        {
          "output_type": "stream",
          "name": "stdout",
          "text": [
            "+-------+-------+\n",
            "|book_id|user_id|\n",
            "+-------+-------+\n",
            "|      2|   5461|\n",
            "|      7|   5461|\n",
            "|     14|   5461|\n",
            "|     22|   5461|\n",
            "|     31|   5461|\n",
            "|     46|   5461|\n",
            "|     48|   5461|\n",
            "|     66|   5461|\n",
            "|     80|   5461|\n",
            "|    100|   5461|\n",
            "|    115|   5461|\n",
            "|    131|   5461|\n",
            "|    142|   5461|\n",
            "|    157|   5461|\n",
            "|    181|   5461|\n",
            "|    261|   5461|\n",
            "|    273|   5461|\n",
            "|    293|   5461|\n",
            "|    321|   5461|\n",
            "|    339|   5461|\n",
            "+-------+-------+\n",
            "only showing top 20 rows\n",
            "\n"
          ]
        }
      ]
    },
    {
      "cell_type": "code",
      "source": [
        "#Traning and evaluating for user1 with our model trained with the help of training data\n",
        "recommendations = model.transform(user1)\n",
        "\n",
        "#Displaying the predictions of books for user1\n",
        "recommendations.orderBy('prediction',ascending=False).show()\n"
      ],
      "metadata": {
        "colab": {
          "base_uri": "https://localhost:8080/"
        },
        "id": "dRYkiQjyo02c",
        "outputId": "b939af8d-79aa-43ec-cf6b-74ebfa8f80be"
      },
      "execution_count": null,
      "outputs": [
        {
          "output_type": "stream",
          "name": "stdout",
          "text": [
            "+-------+-------+----------+\n",
            "|book_id|user_id|prediction|\n",
            "+-------+-------+----------+\n",
            "|    100|   5461|  4.865813|\n",
            "|    357|   5461| 4.6411304|\n",
            "|     48|   5461|  4.625593|\n",
            "|    157|   5461|  4.607937|\n",
            "|   1597|   5461| 4.5412784|\n",
            "|    876|   5461| 4.5286922|\n",
            "|     14|   5461|  4.511103|\n",
            "|     80|   5461|  4.470908|\n",
            "|      7|   5461|  4.417745|\n",
            "|    115|   5461| 4.3871927|\n",
            "|    293|   5461| 4.3870845|\n",
            "|     31|   5461| 4.3255386|\n",
            "|    131|   5461| 4.3050146|\n",
            "|     46|   5461| 4.2703314|\n",
            "|    401|   5461|  4.263187|\n",
            "|    733|   5461|  4.255295|\n",
            "|   9063|   5461| 4.2508397|\n",
            "|     66|   5461|  4.246348|\n",
            "|    321|   5461|  4.244096|\n",
            "|    339|   5461|  4.183666|\n",
            "+-------+-------+----------+\n",
            "only showing top 20 rows\n",
            "\n"
          ]
        }
      ]
    },
    {
      "cell_type": "code",
      "source": [
        "spark.stop()\n"
      ],
      "metadata": {
        "id": "1XCnPSBfo3S7"
      },
      "execution_count": null,
      "outputs": []
    }
  ]
}